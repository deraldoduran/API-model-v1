{
  "nbformat": 4,
  "nbformat_minor": 0,
  "metadata": {
    "colab": {
      "name": "Cópia de Projeto #1 Classificação binária breast cancer.ipynb",
      "provenance": [],
      "toc_visible": true,
      "include_colab_link": true
    },
    "kernelspec": {
      "name": "python3",
      "display_name": "Python 3"
    }
  },
  "cells": [
    {
      "cell_type": "markdown",
      "metadata": {
        "id": "view-in-github",
        "colab_type": "text"
      },
      "source": [
        "<a href=\"https://colab.research.google.com/github/deraldoduran/API-model-v1/blob/master/C%C3%B3pia_de_Projeto_1_Classifica%C3%A7%C3%A3o_bin%C3%A1ria_breast_cancer.ipynb\" target=\"_parent\"><img src=\"https://colab.research.google.com/assets/colab-badge.svg\" alt=\"Open In Colab\"/></a>"
      ]
    },
    {
      "cell_type": "markdown",
      "metadata": {
        "id": "rD_RSER5Lkb5"
      },
      "source": [
        "# Projeto 1: Classificação binária brest cancer"
      ]
    },
    {
      "cell_type": "markdown",
      "metadata": {
        "id": "5tP2BcEILoLB"
      },
      "source": [
        "## Etapa 1: Importação das bibliotecas"
      ]
    },
    {
      "cell_type": "code",
      "metadata": {
        "id": "B1WlABbCcw2B"
      },
      "source": [
        "import pandas as pd\n",
        "from sklearn.model_selection import train_test_split\n",
        "import numpy as np\n",
        "import seaborn as sns\n",
        "from sklearn.metrics import confusion_matrix, accuracy_score"
      ],
      "execution_count": 2,
      "outputs": []
    },
    {
      "cell_type": "code",
      "metadata": {
        "id": "b85d_o8BdFub",
        "colab": {
          "base_uri": "https://localhost:8080/",
          "height": 35
        },
        "outputId": "1ccbbec3-0870-4399-e384-7fcd1e0629cf"
      },
      "source": [
        "import torch\n",
        "torch.__version__\n",
        "#!pip install torch==1.4.0"
      ],
      "execution_count": 3,
      "outputs": [
        {
          "output_type": "execute_result",
          "data": {
            "application/vnd.google.colaboratory.intrinsic+json": {
              "type": "string"
            },
            "text/plain": [
              "'1.7.0+cu101'"
            ]
          },
          "metadata": {
            "tags": []
          },
          "execution_count": 3
        }
      ]
    },
    {
      "cell_type": "code",
      "metadata": {
        "id": "UVO3Mj3qdjru"
      },
      "source": [
        "import torch.nn as nn"
      ],
      "execution_count": 4,
      "outputs": []
    },
    {
      "cell_type": "markdown",
      "metadata": {
        "id": "C0SD4dJ4MDMN"
      },
      "source": [
        "## Etapa 2: Base de dados"
      ]
    },
    {
      "cell_type": "code",
      "metadata": {
        "id": "i81g-4ADedrN",
        "colab": {
          "base_uri": "https://localhost:8080/"
        },
        "outputId": "d2a7121a-267b-4c86-fe0b-1a75afe9c0af"
      },
      "source": [
        "np.random.seed(123)\n",
        "torch.manual_seed(123)"
      ],
      "execution_count": 5,
      "outputs": [
        {
          "output_type": "execute_result",
          "data": {
            "text/plain": [
              "<torch._C.Generator at 0x7fe2146e3840>"
            ]
          },
          "metadata": {
            "tags": []
          },
          "execution_count": 5
        }
      ]
    },
    {
      "cell_type": "code",
      "metadata": {
        "id": "PjbIvUYwfBH8"
      },
      "source": [
        "#import pandas as pd\n",
        "previsores = pd.read_csv('/content/sample_data/entradas_breast.csv')\n",
        "classe = pd.read_csv('/content/sample_data/saidas_breast.csv')\n",
        "#previsores = pd.read_csv('/content/sample_data/entradas_breast.csv')"
      ],
      "execution_count": 12,
      "outputs": []
    },
    {
      "cell_type": "code",
      "metadata": {
        "id": "yFDDZfZTfOq5",
        "colab": {
          "base_uri": "https://localhost:8080/"
        },
        "outputId": "0b738ff6-e3a6-4095-e35f-8b8852fe6349"
      },
      "source": [
        "previsores.shape"
      ],
      "execution_count": 15,
      "outputs": [
        {
          "output_type": "execute_result",
          "data": {
            "text/plain": [
              "(569, 30)"
            ]
          },
          "metadata": {
            "tags": []
          },
          "execution_count": 15
        }
      ]
    },
    {
      "cell_type": "code",
      "metadata": {
        "id": "rqiQvr3HfUc4",
        "colab": {
          "base_uri": "https://localhost:8080/",
          "height": 224
        },
        "outputId": "7a4b250c-a52c-4e8c-e403-84e843b206c1"
      },
      "source": [
        "previsores.head()"
      ],
      "execution_count": 16,
      "outputs": [
        {
          "output_type": "execute_result",
          "data": {
            "text/html": [
              "<div>\n",
              "<style scoped>\n",
              "    .dataframe tbody tr th:only-of-type {\n",
              "        vertical-align: middle;\n",
              "    }\n",
              "\n",
              "    .dataframe tbody tr th {\n",
              "        vertical-align: top;\n",
              "    }\n",
              "\n",
              "    .dataframe thead th {\n",
              "        text-align: right;\n",
              "    }\n",
              "</style>\n",
              "<table border=\"1\" class=\"dataframe\">\n",
              "  <thead>\n",
              "    <tr style=\"text-align: right;\">\n",
              "      <th></th>\n",
              "      <th>radius_mean</th>\n",
              "      <th>texture_mean</th>\n",
              "      <th>perimeter_mean</th>\n",
              "      <th>area_mean</th>\n",
              "      <th>smoothness_mean</th>\n",
              "      <th>compactness_mean</th>\n",
              "      <th>concavity_mean</th>\n",
              "      <th>concave_points_mean</th>\n",
              "      <th>symmetry_mean</th>\n",
              "      <th>fractal_dimension_mean</th>\n",
              "      <th>radius_se</th>\n",
              "      <th>texture_se</th>\n",
              "      <th>perimeter_se</th>\n",
              "      <th>area_se</th>\n",
              "      <th>smoothness_se</th>\n",
              "      <th>compactness_se</th>\n",
              "      <th>concavity_se</th>\n",
              "      <th>concave_points_se</th>\n",
              "      <th>symmetry_se</th>\n",
              "      <th>fractal_dimension_se</th>\n",
              "      <th>radius_worst</th>\n",
              "      <th>texture_worst</th>\n",
              "      <th>perimeter_worst</th>\n",
              "      <th>area_worst</th>\n",
              "      <th>smoothness_worst</th>\n",
              "      <th>compactness_worst</th>\n",
              "      <th>concavity_worst</th>\n",
              "      <th>concave_points_worst</th>\n",
              "      <th>symmetry_worst</th>\n",
              "      <th>fractal_dimension_worst</th>\n",
              "    </tr>\n",
              "  </thead>\n",
              "  <tbody>\n",
              "    <tr>\n",
              "      <th>0</th>\n",
              "      <td>17.99</td>\n",
              "      <td>10.38</td>\n",
              "      <td>122.80</td>\n",
              "      <td>1001.0</td>\n",
              "      <td>0.11840</td>\n",
              "      <td>0.27760</td>\n",
              "      <td>0.3001</td>\n",
              "      <td>0.14710</td>\n",
              "      <td>0.2419</td>\n",
              "      <td>0.07871</td>\n",
              "      <td>1095.0000</td>\n",
              "      <td>0.9053</td>\n",
              "      <td>8589.0</td>\n",
              "      <td>153.40</td>\n",
              "      <td>0.006399</td>\n",
              "      <td>0.04904</td>\n",
              "      <td>0.05373</td>\n",
              "      <td>0.01587</td>\n",
              "      <td>0.03003</td>\n",
              "      <td>0.006193</td>\n",
              "      <td>25.38</td>\n",
              "      <td>17.33</td>\n",
              "      <td>184.60</td>\n",
              "      <td>2019.0</td>\n",
              "      <td>0.1622</td>\n",
              "      <td>0.6656</td>\n",
              "      <td>0.7119</td>\n",
              "      <td>0.2654</td>\n",
              "      <td>0.4601</td>\n",
              "      <td>0.11890</td>\n",
              "    </tr>\n",
              "    <tr>\n",
              "      <th>1</th>\n",
              "      <td>20.57</td>\n",
              "      <td>17.77</td>\n",
              "      <td>132.90</td>\n",
              "      <td>1326.0</td>\n",
              "      <td>0.08474</td>\n",
              "      <td>0.07864</td>\n",
              "      <td>0.0869</td>\n",
              "      <td>0.07017</td>\n",
              "      <td>0.1812</td>\n",
              "      <td>0.05667</td>\n",
              "      <td>0.5435</td>\n",
              "      <td>0.7339</td>\n",
              "      <td>3398.0</td>\n",
              "      <td>74.08</td>\n",
              "      <td>0.005225</td>\n",
              "      <td>0.01308</td>\n",
              "      <td>0.01860</td>\n",
              "      <td>0.01340</td>\n",
              "      <td>0.01389</td>\n",
              "      <td>0.003532</td>\n",
              "      <td>24.99</td>\n",
              "      <td>23.41</td>\n",
              "      <td>158.80</td>\n",
              "      <td>1956.0</td>\n",
              "      <td>0.1238</td>\n",
              "      <td>0.1866</td>\n",
              "      <td>0.2416</td>\n",
              "      <td>186.0000</td>\n",
              "      <td>275.0000</td>\n",
              "      <td>0.08902</td>\n",
              "    </tr>\n",
              "    <tr>\n",
              "      <th>2</th>\n",
              "      <td>19.69</td>\n",
              "      <td>21.25</td>\n",
              "      <td>130.00</td>\n",
              "      <td>1203.0</td>\n",
              "      <td>0.10960</td>\n",
              "      <td>0.15990</td>\n",
              "      <td>0.1974</td>\n",
              "      <td>0.12790</td>\n",
              "      <td>0.2069</td>\n",
              "      <td>0.05999</td>\n",
              "      <td>0.7456</td>\n",
              "      <td>0.7869</td>\n",
              "      <td>4585.0</td>\n",
              "      <td>94.03</td>\n",
              "      <td>0.006150</td>\n",
              "      <td>0.04006</td>\n",
              "      <td>0.03832</td>\n",
              "      <td>0.02058</td>\n",
              "      <td>0.02250</td>\n",
              "      <td>0.004571</td>\n",
              "      <td>23.57</td>\n",
              "      <td>25.53</td>\n",
              "      <td>152.50</td>\n",
              "      <td>1709.0</td>\n",
              "      <td>0.1444</td>\n",
              "      <td>0.4245</td>\n",
              "      <td>0.4504</td>\n",
              "      <td>243.0000</td>\n",
              "      <td>0.3613</td>\n",
              "      <td>0.08758</td>\n",
              "    </tr>\n",
              "    <tr>\n",
              "      <th>3</th>\n",
              "      <td>11.42</td>\n",
              "      <td>20.38</td>\n",
              "      <td>77.58</td>\n",
              "      <td>386.1</td>\n",
              "      <td>0.14250</td>\n",
              "      <td>0.28390</td>\n",
              "      <td>0.2414</td>\n",
              "      <td>0.10520</td>\n",
              "      <td>0.2597</td>\n",
              "      <td>0.09744</td>\n",
              "      <td>0.4956</td>\n",
              "      <td>1156.0000</td>\n",
              "      <td>3445.0</td>\n",
              "      <td>27.23</td>\n",
              "      <td>0.009110</td>\n",
              "      <td>0.07458</td>\n",
              "      <td>0.05661</td>\n",
              "      <td>0.01867</td>\n",
              "      <td>0.05963</td>\n",
              "      <td>0.009208</td>\n",
              "      <td>14.91</td>\n",
              "      <td>26.50</td>\n",
              "      <td>98.87</td>\n",
              "      <td>567.7</td>\n",
              "      <td>0.2098</td>\n",
              "      <td>0.8663</td>\n",
              "      <td>0.6869</td>\n",
              "      <td>0.2575</td>\n",
              "      <td>0.6638</td>\n",
              "      <td>173.00000</td>\n",
              "    </tr>\n",
              "    <tr>\n",
              "      <th>4</th>\n",
              "      <td>20.29</td>\n",
              "      <td>14.34</td>\n",
              "      <td>135.10</td>\n",
              "      <td>1297.0</td>\n",
              "      <td>0.10030</td>\n",
              "      <td>0.13280</td>\n",
              "      <td>198.0000</td>\n",
              "      <td>0.10430</td>\n",
              "      <td>0.1809</td>\n",
              "      <td>0.05883</td>\n",
              "      <td>0.7572</td>\n",
              "      <td>0.7813</td>\n",
              "      <td>5438.0</td>\n",
              "      <td>94.44</td>\n",
              "      <td>0.011490</td>\n",
              "      <td>0.02461</td>\n",
              "      <td>0.05688</td>\n",
              "      <td>0.01885</td>\n",
              "      <td>0.01756</td>\n",
              "      <td>0.005115</td>\n",
              "      <td>22.54</td>\n",
              "      <td>16.67</td>\n",
              "      <td>152.20</td>\n",
              "      <td>1575.0</td>\n",
              "      <td>0.1374</td>\n",
              "      <td>205.0000</td>\n",
              "      <td>0.4000</td>\n",
              "      <td>0.1625</td>\n",
              "      <td>0.2364</td>\n",
              "      <td>0.07678</td>\n",
              "    </tr>\n",
              "  </tbody>\n",
              "</table>\n",
              "</div>"
            ],
            "text/plain": [
              "    radius_mean   texture_mean  ...   symmetry_worst   fractal_dimension_worst\n",
              "0         17.99          10.38  ...           0.4601                   0.11890\n",
              "1         20.57          17.77  ...         275.0000                   0.08902\n",
              "2         19.69          21.25  ...           0.3613                   0.08758\n",
              "3         11.42          20.38  ...           0.6638                 173.00000\n",
              "4         20.29          14.34  ...           0.2364                   0.07678\n",
              "\n",
              "[5 rows x 30 columns]"
            ]
          },
          "metadata": {
            "tags": []
          },
          "execution_count": 16
        }
      ]
    },
    {
      "cell_type": "code",
      "metadata": {
        "id": "kKqSDj3bfdQB",
        "colab": {
          "base_uri": "https://localhost:8080/",
          "height": 204
        },
        "outputId": "beff0fa7-d8d1-49a8-ffe6-54982007c2e8"
      },
      "source": [
        "classe.head()"
      ],
      "execution_count": 17,
      "outputs": [
        {
          "output_type": "execute_result",
          "data": {
            "text/html": [
              "<div>\n",
              "<style scoped>\n",
              "    .dataframe tbody tr th:only-of-type {\n",
              "        vertical-align: middle;\n",
              "    }\n",
              "\n",
              "    .dataframe tbody tr th {\n",
              "        vertical-align: top;\n",
              "    }\n",
              "\n",
              "    .dataframe thead th {\n",
              "        text-align: right;\n",
              "    }\n",
              "</style>\n",
              "<table border=\"1\" class=\"dataframe\">\n",
              "  <thead>\n",
              "    <tr style=\"text-align: right;\">\n",
              "      <th></th>\n",
              "      <th>0</th>\n",
              "    </tr>\n",
              "  </thead>\n",
              "  <tbody>\n",
              "    <tr>\n",
              "      <th>0</th>\n",
              "      <td>0</td>\n",
              "    </tr>\n",
              "    <tr>\n",
              "      <th>1</th>\n",
              "      <td>0</td>\n",
              "    </tr>\n",
              "    <tr>\n",
              "      <th>2</th>\n",
              "      <td>0</td>\n",
              "    </tr>\n",
              "    <tr>\n",
              "      <th>3</th>\n",
              "      <td>0</td>\n",
              "    </tr>\n",
              "    <tr>\n",
              "      <th>4</th>\n",
              "      <td>0</td>\n",
              "    </tr>\n",
              "  </tbody>\n",
              "</table>\n",
              "</div>"
            ],
            "text/plain": [
              "   0\n",
              "0  0\n",
              "1  0\n",
              "2  0\n",
              "3  0\n",
              "4  0"
            ]
          },
          "metadata": {
            "tags": []
          },
          "execution_count": 17
        }
      ]
    },
    {
      "cell_type": "code",
      "metadata": {
        "id": "-jSqJh18fhL1",
        "colab": {
          "base_uri": "https://localhost:8080/"
        },
        "outputId": "c0ce2b88-5c6b-4aea-8fbc-c11a63128e3a"
      },
      "source": [
        "np.unique(classe)"
      ],
      "execution_count": 18,
      "outputs": [
        {
          "output_type": "execute_result",
          "data": {
            "text/plain": [
              "array([0, 1])"
            ]
          },
          "metadata": {
            "tags": []
          },
          "execution_count": 18
        }
      ]
    },
    {
      "cell_type": "code",
      "metadata": {
        "id": "aKLO9jX0fs-3",
        "colab": {
          "base_uri": "https://localhost:8080/",
          "height": 333
        },
        "outputId": "12b4b30a-5d5e-4258-8b6c-25762da85d95"
      },
      "source": [
        "sns.countplot(classe['0']);"
      ],
      "execution_count": 19,
      "outputs": [
        {
          "output_type": "stream",
          "text": [
            "/usr/local/lib/python3.6/dist-packages/seaborn/_decorators.py:43: FutureWarning: Pass the following variable as a keyword arg: x. From version 0.12, the only valid positional argument will be `data`, and passing other arguments without an explicit keyword will result in an error or misinterpretation.\n",
            "  FutureWarning\n"
          ],
          "name": "stderr"
        },
        {
          "output_type": "display_data",
          "data": {
            "image/png": "[encoded data removed]",
            "text/plain": [
              "<Figure size 432x288 with 1 Axes>"
            ]
          },
          "metadata": {
            "tags": [],
            "needs_background": "light"
          }
        }
      ]
    },
    {
      "cell_type": "code",
      "metadata": {
        "id": "UX9ZDhUMgBsv"
      },
      "source": [
        "previsores_treinamento, previsores_teste, classe_treinamento, classe_teste = train_test_split(previsores,\n",
        "                                                                                              classe,\n",
        "                                                                                              test_size = 0.25)"
      ],
      "execution_count": 20,
      "outputs": []
    },
    {
      "cell_type": "code",
      "metadata": {
        "id": "7SEVQyX9gR4O",
        "colab": {
          "base_uri": "https://localhost:8080/"
        },
        "outputId": "5b294a7d-e518-4380-c8a5-e835280f7470"
      },
      "source": [
        "previsores_treinamento.shape"
      ],
      "execution_count": 21,
      "outputs": [
        {
          "output_type": "execute_result",
          "data": {
            "text/plain": [
              "(426, 30)"
            ]
          },
          "metadata": {
            "tags": []
          },
          "execution_count": 21
        }
      ]
    },
    {
      "cell_type": "code",
      "metadata": {
        "id": "ZA6wrOMygUmg",
        "colab": {
          "base_uri": "https://localhost:8080/"
        },
        "outputId": "02d88326-948e-4948-b709-4ee4be8db908"
      },
      "source": [
        "classe_treinamento.shape"
      ],
      "execution_count": 22,
      "outputs": [
        {
          "output_type": "execute_result",
          "data": {
            "text/plain": [
              "(426, 1)"
            ]
          },
          "metadata": {
            "tags": []
          },
          "execution_count": 22
        }
      ]
    },
    {
      "cell_type": "code",
      "metadata": {
        "id": "SKyN_plmgZzH",
        "colab": {
          "base_uri": "https://localhost:8080/"
        },
        "outputId": "cace1bea-1faa-413b-fa75-8a8a644e4234"
      },
      "source": [
        "previsores_teste.shape"
      ],
      "execution_count": 23,
      "outputs": [
        {
          "output_type": "execute_result",
          "data": {
            "text/plain": [
              "(143, 30)"
            ]
          },
          "metadata": {
            "tags": []
          },
          "execution_count": 23
        }
      ]
    },
    {
      "cell_type": "code",
      "metadata": {
        "id": "wN_AXcfggdWC",
        "colab": {
          "base_uri": "https://localhost:8080/"
        },
        "outputId": "c8488b43-a767-432b-b4fd-04eadbf369ca"
      },
      "source": [
        "classe_teste.shape"
      ],
      "execution_count": 24,
      "outputs": [
        {
          "output_type": "execute_result",
          "data": {
            "text/plain": [
              "(143, 1)"
            ]
          },
          "metadata": {
            "tags": []
          },
          "execution_count": 24
        }
      ]
    },
    {
      "cell_type": "markdown",
      "metadata": {
        "id": "72uvlxJrOuWd"
      },
      "source": [
        "## Etapa 3: Transformação dos dados para tensores\n"
      ]
    },
    {
      "cell_type": "code",
      "metadata": {
        "id": "nk5Gjgb7hBCo",
        "colab": {
          "base_uri": "https://localhost:8080/"
        },
        "outputId": "828798c3-3654-487b-a841-887e94836163"
      },
      "source": [
        "type(previsores_treinamento)"
      ],
      "execution_count": 25,
      "outputs": [
        {
          "output_type": "execute_result",
          "data": {
            "text/plain": [
              "pandas.core.frame.DataFrame"
            ]
          },
          "metadata": {
            "tags": []
          },
          "execution_count": 25
        }
      ]
    },
    {
      "cell_type": "code",
      "metadata": {
        "id": "aIzWASyMhMmy",
        "colab": {
          "base_uri": "https://localhost:8080/"
        },
        "outputId": "018571c8-f497-47e9-a8c4-d2a6ea4f6ebd"
      },
      "source": [
        "type(np.array(previsores_treinamento))"
      ],
      "execution_count": 33,
      "outputs": [
        {
          "output_type": "execute_result",
          "data": {
            "text/plain": [
              "numpy.ndarray"
            ]
          },
          "metadata": {
            "tags": []
          },
          "execution_count": 33
        }
      ]
    },
    {
      "cell_type": "code",
      "metadata": {
        "id": "hqPER9AYhTpt"
      },
      "source": [
        "previsores_treinamento = torch.tensor(np.array(previsores_treinamento), dtype=torch.float)\n",
        "classe_treinamento = torch.tensor(np.array(classe_treinamento), dtype = torch.float)"
      ],
      "execution_count": 34,
      "outputs": []
    },
    {
      "cell_type": "code",
      "metadata": {
        "id": "u-2HrvEJh5Km",
        "colab": {
          "base_uri": "https://localhost:8080/"
        },
        "outputId": "13f059b6-935e-4a64-d363-8102df10bdcc"
      },
      "source": [
        "type(previsores_treinamento)"
      ],
      "execution_count": 35,
      "outputs": [
        {
          "output_type": "execute_result",
          "data": {
            "text/plain": [
              "torch.Tensor"
            ]
          },
          "metadata": {
            "tags": []
          },
          "execution_count": 35
        }
      ]
    },
    {
      "cell_type": "code",
      "metadata": {
        "id": "lqL8ypLSh79u",
        "colab": {
          "base_uri": "https://localhost:8080/"
        },
        "outputId": "74a24356-24c6-4dfc-cca0-64cb397a1c62"
      },
      "source": [
        "type(classe_treinamento)"
      ],
      "execution_count": 36,
      "outputs": [
        {
          "output_type": "execute_result",
          "data": {
            "text/plain": [
              "torch.Tensor"
            ]
          },
          "metadata": {
            "tags": []
          },
          "execution_count": 36
        }
      ]
    },
    {
      "cell_type": "code",
      "metadata": {
        "id": "__6a-iZhiJVI"
      },
      "source": [
        "dataset = torch.utils.data.TensorDataset(previsores_treinamento, classe_treinamento)"
      ],
      "execution_count": 37,
      "outputs": []
    },
    {
      "cell_type": "code",
      "metadata": {
        "id": "t0sP_kvViZJl",
        "colab": {
          "base_uri": "https://localhost:8080/"
        },
        "outputId": "ed4bdfa3-2f3c-4df4-ed10-c074dd40dfbe"
      },
      "source": [
        "type(dataset)"
      ],
      "execution_count": 38,
      "outputs": [
        {
          "output_type": "execute_result",
          "data": {
            "text/plain": [
              "torch.utils.data.dataset.TensorDataset"
            ]
          },
          "metadata": {
            "tags": []
          },
          "execution_count": 38
        }
      ]
    },
    {
      "cell_type": "code",
      "metadata": {
        "id": "5dIWzA4wihKD"
      },
      "source": [
        "train_loader = torch.utils.data.DataLoader(dataset, batch_size=10, shuffle=True)"
      ],
      "execution_count": 39,
      "outputs": []
    },
    {
      "cell_type": "markdown",
      "metadata": {
        "id": "QGDLesyDQpIb"
      },
      "source": [
        "## Etapa 4: Construção do modelo"
      ]
    },
    {
      "cell_type": "code",
      "metadata": {
        "id": "1FAFgY56jmdG"
      },
      "source": [
        "# 30 -> 16 -> 16 -> 1\n",
        "# (entradas + saida) / 2 = (30 + 1) / 2 = 16\n",
        "classificador = nn.Sequential(\n",
        "    nn.Linear(in_features=30, out_features=16),\n",
        "    nn.ReLU(),\n",
        "    nn.Linear(16, 16),\n",
        "    nn.ReLU(),\n",
        "    nn.Linear(16, 1),\n",
        "    nn.Sigmoid()\n",
        ")"
      ],
      "execution_count": 40,
      "outputs": []
    },
    {
      "cell_type": "code",
      "metadata": {
        "id": "ixwI_mhZlDVW",
        "colab": {
          "base_uri": "https://localhost:8080/"
        },
        "outputId": "5f3a414d-9025-4400-cdcc-695850c84523"
      },
      "source": [
        "classificador.parameters"
      ],
      "execution_count": 42,
      "outputs": [
        {
          "output_type": "execute_result",
          "data": {
            "text/plain": [
              "<bound method Module.parameters of Sequential(\n",
              "  (0): Linear(in_features=30, out_features=16, bias=True)\n",
              "  (1): ReLU()\n",
              "  (2): Linear(in_features=16, out_features=16, bias=True)\n",
              "  (3): ReLU()\n",
              "  (4): Linear(in_features=16, out_features=1, bias=True)\n",
              "  (5): Sigmoid()\n",
              ")>"
            ]
          },
          "metadata": {
            "tags": []
          },
          "execution_count": 42
        }
      ]
    },
    {
      "cell_type": "code",
      "metadata": {
        "id": "--bNcvlplMh9"
      },
      "source": [
        "criterion = nn.BCELoss()"
      ],
      "execution_count": 43,
      "outputs": []
    },
    {
      "cell_type": "code",
      "metadata": {
        "id": "Um6Tr3s_lXHK"
      },
      "source": [
        "optimizer = torch.optim.Adam(classificador.parameters(), lr=0.001, weight_decay=0.0001)"
      ],
      "execution_count": 44,
      "outputs": []
    },
    {
      "cell_type": "markdown",
      "metadata": {
        "id": "appMwDHtRTN5"
      },
      "source": [
        "## Etapa 5: Treinamento do modelo"
      ]
    },
    {
      "cell_type": "code",
      "metadata": {
        "id": "exieZFSam_eI",
        "colab": {
          "base_uri": "https://localhost:8080/"
        },
        "outputId": "8694e7d9-56b7-4b15-e3f1-411f5c70b388"
      },
      "source": [
        "for epoch in range(100):\n",
        "  running_loss = 0.\n",
        "\n",
        "  for data in train_loader:\n",
        "    inputs, labels = data\n",
        "    #print(inputs)\n",
        "    #print('-----')\n",
        "    #print(labels)\n",
        "    optimizer.zero_grad()\n",
        "\n",
        "    outputs = classificador(inputs) # classificador.forward(inputs)\n",
        "    #print(outputs)\n",
        "    loss = criterion(outputs, labels)\n",
        "    #print(loss)\n",
        "    loss.backward()\n",
        "    optimizer.step()\n",
        "\n",
        "    running_loss += loss.item()\n",
        "  print('Época %3d: perda %.5f' % (epoch+1, running_loss/len(train_loader)))"
      ],
      "execution_count": 46,
      "outputs": [
        {
          "output_type": "stream",
          "text": [
            "Época   1: perda 3.12973\n",
            "Época   2: perda 3.27783\n",
            "Época   3: perda 3.13326\n",
            "Época   4: perda 3.29200\n",
            "Época   5: perda 3.12005\n",
            "Época   6: perda 3.14715\n",
            "Época   7: perda 3.13077\n",
            "Época   8: perda 3.14991\n",
            "Época   9: perda 3.13738\n",
            "Época  10: perda 3.12289\n",
            "Época  11: perda 3.27739\n",
            "Época  12: perda 3.11540\n",
            "Época  13: perda 3.17872\n",
            "Época  14: perda 3.12592\n",
            "Época  15: perda 3.27818\n",
            "Época  16: perda 3.14583\n",
            "Época  17: perda 3.17374\n",
            "Época  18: perda 3.18443\n",
            "Época  19: perda 3.15452\n",
            "Época  20: perda 3.12261\n",
            "Época  21: perda 3.14353\n",
            "Época  22: perda 3.16478\n",
            "Época  23: perda 3.11736\n",
            "Época  24: perda 3.11918\n",
            "Época  25: perda 3.11156\n",
            "Época  26: perda 3.12270\n",
            "Época  27: perda 3.10207\n",
            "Época  28: perda 3.11493\n",
            "Época  29: perda 3.11041\n",
            "Época  30: perda 3.11455\n",
            "Época  31: perda 3.28334\n",
            "Época  32: perda 3.15596\n",
            "Época  33: perda 3.13103\n",
            "Época  34: perda 3.28540\n",
            "Época  35: perda 3.12406\n",
            "Época  36: perda 3.26744\n",
            "Época  37: perda 3.25538\n",
            "Época  38: perda 3.45480\n",
            "Época  39: perda 3.17075\n",
            "Época  40: perda 3.10432\n",
            "Época  41: perda 3.12675\n",
            "Época  42: perda 3.12042\n",
            "Época  43: perda 3.10730\n",
            "Época  44: perda 3.12250\n",
            "Época  45: perda 3.26891\n",
            "Época  46: perda 3.15312\n",
            "Época  47: perda 3.19070\n",
            "Época  48: perda 3.28828\n",
            "Época  49: perda 3.12441\n",
            "Época  50: perda 3.11419\n",
            "Época  51: perda 3.11362\n",
            "Época  52: perda 3.11873\n",
            "Época  53: perda 3.56614\n",
            "Época  54: perda 3.11395\n",
            "Época  55: perda 3.13843\n",
            "Época  56: perda 3.12842\n",
            "Época  57: perda 3.44394\n",
            "Época  58: perda 3.13588\n",
            "Época  59: perda 3.12196\n",
            "Época  60: perda 3.10609\n",
            "Época  61: perda 3.10290\n",
            "Época  62: perda 3.12858\n",
            "Época  63: perda 3.11311\n",
            "Época  64: perda 3.27603\n",
            "Época  65: perda 3.13282\n",
            "Época  66: perda 3.10732\n",
            "Época  67: perda 3.10368\n",
            "Época  68: perda 3.43420\n",
            "Época  69: perda 3.10806\n",
            "Época  70: perda 3.10080\n",
            "Época  71: perda 3.27868\n",
            "Época  72: perda 3.21362\n",
            "Época  73: perda 3.11656\n",
            "Época  74: perda 3.25675\n",
            "Época  75: perda 3.11271\n",
            "Época  76: perda 3.12235\n",
            "Época  77: perda 3.29018\n",
            "Época  78: perda 3.11296\n",
            "Época  79: perda 3.10744\n",
            "Época  80: perda 3.11179\n",
            "Época  81: perda 3.24944\n",
            "Época  82: perda 3.11900\n",
            "Época  83: perda 3.11255\n",
            "Época  84: perda 2.90955\n",
            "Época  85: perda 2.74003\n",
            "Época  86: perda 1.61450\n",
            "Época  87: perda 0.53202\n",
            "Época  88: perda 0.21212\n",
            "Época  89: perda 0.13990\n",
            "Época  90: perda 0.13808\n",
            "Época  91: perda 0.11842\n",
            "Época  92: perda 0.10799\n",
            "Época  93: perda 0.09416\n",
            "Época  94: perda 0.11674\n",
            "Época  95: perda 0.11139\n",
            "Época  96: perda 0.13925\n",
            "Época  97: perda 0.12062\n",
            "Época  98: perda 0.10059\n",
            "Época  99: perda 0.11250\n",
            "Época 100: perda 0.09792\n"
          ],
          "name": "stdout"
        }
      ]
    },
    {
      "cell_type": "markdown",
      "metadata": {
        "id": "ITUtUdQNSJcs"
      },
      "source": [
        "## Etapa 6: Visualização dos pesos"
      ]
    },
    {
      "cell_type": "code",
      "metadata": {
        "id": "p0E2vbaGreGc"
      },
      "source": [
        "# 30 -> 16 -> 16 -> 1\n",
        "params = list(classificador.parameters())"
      ],
      "execution_count": 47,
      "outputs": []
    },
    {
      "cell_type": "code",
      "metadata": {
        "id": "y2sFTNaMroyw",
        "colab": {
          "base_uri": "https://localhost:8080/"
        },
        "outputId": "f306b342-6837-482c-97dc-eaddd793f2f1"
      },
      "source": [
        "params"
      ],
      "execution_count": 48,
      "outputs": [
        {
          "output_type": "execute_result",
          "data": {
            "text/plain": [
              "[Parameter containing:\n",
              " tensor([[-1.4472e-01, -1.1859e-01, -2.0132e-01, -5.6461e-02, -3.1472e-02,\n",
              "          -9.2397e-02, -3.1615e-02, -1.5199e-03, -6.6438e-02, -3.4858e-02,\n",
              "          -5.4382e-02,  4.8891e-03, -1.6903e-01, -1.7313e-01,  3.1291e-16,\n",
              "          -7.5156e-04, -3.9583e-04, -2.4709e-02, -4.8498e-02, -1.6453e-16,\n",
              "           1.3088e-01, -1.0403e-01, -8.1431e-02,  4.9095e-02, -3.3937e-02,\n",
              "          -1.4254e-02, -5.1198e-02, -1.2157e-02,  6.3936e-02, -6.9876e-02],\n",
              "         [ 2.1684e-01,  5.3967e-02,  3.9308e-01,  1.0629e-01, -4.6097e-01,\n",
              "          -1.7333e-01, -1.6348e-01, -3.2873e-01,  2.6114e-02,  4.9253e-02,\n",
              "           3.7776e-02, -7.8363e-02, -9.1475e-03,  1.5673e-01, -1.9145e-02,\n",
              "          -1.2957e-01,  2.5677e-02,  1.0757e-02,  7.8775e-02, -2.7703e-02,\n",
              "           2.0542e-01, -1.4152e-01,  2.7780e-01, -6.6723e-03,  9.7306e-02,\n",
              "          -2.3687e-01, -3.3325e-01,  9.9896e-03, -1.7744e-01, -1.6597e-01],\n",
              "         [ 3.1434e-02,  5.0107e-02, -6.0054e-02, -1.0508e-01,  1.3392e-02,\n",
              "           3.3347e-02, -2.6120e-02, -2.4171e-02,  2.5226e-02, -6.7917e-02,\n",
              "          -5.4577e-02,  7.4176e-02, -1.5783e-01, -2.9560e-02,  3.6003e-03,\n",
              "           1.2596e-01,  3.6656e-03, -9.8743e-03, -4.4271e-02, -5.3605e-03,\n",
              "           4.1879e-02,  3.4235e-02,  1.3483e-02, -2.3574e-02,  2.8282e-02,\n",
              "           5.9684e-02,  9.2923e-02, -9.4520e-03,  3.5531e-02,  1.2227e-02],\n",
              "         [-4.6000e-01,  8.7691e-02, -2.3884e-01,  7.0487e-02,  9.3982e-02,\n",
              "           1.1272e-01,  1.8382e-01,  9.1116e-02, -4.5542e-03, -5.9054e-02,\n",
              "           3.0504e-01, -7.4876e-02, -1.1069e-02,  7.6740e-02, -2.6028e-03,\n",
              "           1.4335e-02, -6.4251e-02, -2.8573e-02, -2.4093e-03, -5.9803e-04,\n",
              "           2.1064e-02, -8.0087e-02, -1.4734e-01,  1.3781e-02,  1.4083e-01,\n",
              "           1.2035e-01, -5.1552e-02,  3.6267e-01,  3.5235e-01,  5.4669e-01],\n",
              "         [-4.6905e-01,  1.2190e-01, -1.5367e-01, -1.3962e-01,  3.5568e-01,\n",
              "           6.0073e-03,  2.0254e-01, -3.5637e-01, -2.3219e-01,  1.1668e-01,\n",
              "          -1.6734e-01,  3.2730e-03, -1.1683e-02,  1.0384e-01,  1.3069e-02,\n",
              "           2.3148e-02, -6.5100e-01,  3.0618e-02,  1.6453e-01,  3.6515e-01,\n",
              "          -1.8451e-01,  2.4103e-01, -1.6342e-01,  2.4890e-01, -3.9367e-02,\n",
              "          -1.7631e-01, -3.6440e-01, -3.3537e-01, -7.5164e-03,  6.7562e-01],\n",
              "         [-1.5575e-01, -1.2597e-01, -7.9303e-02,  2.0297e-02,  3.3607e-03,\n",
              "           7.9329e-02, -1.0903e-01, -3.3643e-02, -1.2639e-01, -1.1316e-01,\n",
              "          -1.4278e-02,  6.7456e-02, -1.3246e-01,  1.6707e-01,  2.5951e-04,\n",
              "           5.7765e-02, -7.9975e-02, -4.3635e-03, -6.2125e-02, -1.0566e-03,\n",
              "          -3.3166e-02, -2.0798e-01, -9.9297e-02, -7.0974e-02, -2.3805e-01,\n",
              "          -7.9302e-02, -5.4138e-02, -9.5476e-02,  1.4479e-01, -9.4491e-03],\n",
              "         [ 6.2021e-02,  9.9584e-02,  1.8288e-01, -1.9405e-01, -1.5570e-02,\n",
              "          -1.2864e-01, -7.1903e-02, -1.3509e-03,  5.2428e-01,  7.6939e-04,\n",
              "          -1.2209e-01, -1.3598e-01,  3.8115e-02,  1.7350e-01,  9.9359e-06,\n",
              "           6.0110e-05,  7.8868e-05,  1.4708e-05,  7.1659e-05, -5.4323e-06,\n",
              "           4.0504e-02,  6.4090e-02,  8.9922e-02, -1.5674e-01, -7.8834e-02,\n",
              "           7.0646e-03,  3.4464e-02, -5.3666e-02, -1.7522e-02,  2.1962e-03],\n",
              "         [-4.0393e-01,  5.9224e-02, -2.2630e-01, -1.7333e-01,  2.7453e-01,\n",
              "           1.8115e-01, -4.2758e-02, -1.2773e-01,  2.0735e-01, -2.7352e-02,\n",
              "           1.3134e-03, -1.1664e-01,  6.6807e-02,  2.3409e-01,  7.2526e-03,\n",
              "           4.9609e-02,  3.0336e-02,  2.3499e-02,  7.3201e-02,  6.5862e-03,\n",
              "          -3.1047e-01,  1.9410e-01, -3.7321e-01,  1.1034e-01,  3.6572e-02,\n",
              "          -2.7072e-01,  5.2527e-02,  3.8416e-01, -5.5090e-02,  1.5831e-01],\n",
              "         [-1.9618e-01, -2.1568e-02, -4.7977e-01, -2.9082e-02,  3.4519e-01,\n",
              "           2.0675e-01, -2.2187e-01, -3.0905e-01,  6.1415e-02, -1.2633e-01,\n",
              "           2.2963e-01, -1.0810e-01,  8.1174e-02,  6.9002e-02,  1.5719e-02,\n",
              "           1.2430e-01, -3.2160e-01, -5.7550e-02,  1.1171e-01,  1.3595e-01,\n",
              "          -4.6990e-01,  2.3371e-01, -3.5655e-01,  2.4902e-01,  3.5503e-01,\n",
              "           3.7366e-02, -1.9714e-01,  1.3569e-01,  1.4187e-01,  5.4900e-01],\n",
              "         [ 2.6679e-01, -8.4870e-03,  3.2623e-01, -5.5527e-02, -1.8207e-01,\n",
              "          -1.8689e-01,  8.8245e-02,  5.3162e-02, -7.0508e-02,  2.7558e-02,\n",
              "           4.2984e-02, -1.5373e-01,  1.5718e-01, -3.7128e-01, -2.2059e-02,\n",
              "          -1.0512e-01,  7.2003e-02,  3.7635e-03, -1.2609e-01, -6.2709e-02,\n",
              "           2.0634e-01, -3.4993e-01,  3.4224e-01, -1.3769e-01,  4.0173e-02,\n",
              "           2.2786e-02,  2.6015e-01, -1.4226e-01,  8.2233e-02, -2.6695e-01],\n",
              "         [-2.3917e-01, -7.6879e-02, -5.2743e-02,  8.3600e-02,  1.0128e-03,\n",
              "          -2.4558e-01, -2.0535e-01,  8.6404e-02,  1.9791e-01, -3.4433e-03,\n",
              "          -1.7009e-01,  4.8577e-02, -1.5151e-01,  2.3725e-01, -8.3439e-03,\n",
              "          -9.9500e-02, -6.6992e-01, -1.6088e-01, -2.7402e-01,  2.5024e-03,\n",
              "          -3.2240e-01, -1.1835e-01, -4.2102e-02,  1.8832e-01,  4.2833e-01,\n",
              "           1.4088e-01,  2.3894e-01,  2.9077e-01,  5.0551e-02, -4.7138e-02],\n",
              "         [ 1.2391e-01, -8.7390e-02,  2.3339e-01,  2.2529e-01,  1.9083e-01,\n",
              "           4.2033e-01, -4.3387e-01,  8.0532e-01,  4.7829e-01, -1.2629e-01,\n",
              "           1.4129e-01,  7.2752e-02, -8.3245e-02, -1.9474e-01, -3.5569e-03,\n",
              "           4.0002e-02,  6.1225e-01,  1.9249e-03, -5.2056e-02, -4.2212e-01,\n",
              "           2.5916e-01, -2.3571e-01,  3.5991e-01, -8.7461e-02, -1.4297e-01,\n",
              "           1.0326e-01, -1.3668e-01,  3.0764e-02,  2.5337e-01, -6.2358e-01],\n",
              "         [ 1.0677e-01,  1.9397e-01, -3.9825e-01, -8.0454e-02,  1.0113e-01,\n",
              "           2.7053e-01,  9.3877e-02,  1.5921e-01,  5.9859e-02, -6.4008e-03,\n",
              "           1.3585e-01, -4.5248e-02,  7.4388e-02,  7.6825e-02,  7.4149e-03,\n",
              "           5.5325e-02,  2.4794e-01,  1.7314e-02, -8.1665e-03,  5.9937e-02,\n",
              "           2.4381e-02,  3.2472e-01, -1.6226e-01,  2.2168e-02, -2.0473e-01,\n",
              "           2.1274e-01, -3.3663e-01,  2.4473e-01,  4.4974e-02,  4.8592e-01],\n",
              "         [ 8.2383e-02, -6.3957e-02, -9.4530e-02, -1.8627e-02,  3.1484e-02,\n",
              "          -8.2835e-02, -1.1242e-01,  1.3252e-02, -7.4897e-02, -5.3564e-02,\n",
              "          -2.6801e-02, -1.6692e-01, -1.9339e-01,  1.0118e-01,  1.4560e-03,\n",
              "           9.3966e-03,  1.2600e-02, -3.3440e-02,  5.2523e-03,  1.2397e-03,\n",
              "           1.0010e-01, -2.6194e-02, -8.5837e-02,  1.0647e-01, -3.7471e-03,\n",
              "           4.6080e-02, -4.6070e-02,  1.0999e-02, -9.3331e-03,  2.3275e-03],\n",
              "         [ 9.4538e-02, -3.2260e-02,  1.9293e-02, -1.5778e-01, -3.3788e-05,\n",
              "          -7.0155e-11,  1.3719e-16, -5.7446e-17, -3.3908e-02, -2.7693e-05,\n",
              "          -2.4517e-03, -4.5946e-02, -4.6807e-02, -4.2875e-02, -1.9954e-16,\n",
              "           1.6477e-16,  1.4340e-16, -1.0728e-16,  9.2510e-14,  1.0727e-16,\n",
              "           7.5366e-02,  2.0696e-03, -1.0829e-01, -1.9841e-01, -1.6841e-03,\n",
              "          -2.6749e-02,  3.6703e-16, -2.6618e-03, -7.2876e-03, -7.3593e-05],\n",
              "         [-6.7707e-05, -2.5411e-04, -1.1284e-02, -1.9395e-02, -2.4164e-39,\n",
              "          -8.3361e-05,  1.4863e-08,  5.7753e-09, -1.5219e-03,  2.7977e-40,\n",
              "          -1.1707e-02, -8.5132e-03, -9.6617e-03, -3.7086e-04,  2.6432e-40,\n",
              "          -4.0770e-39,  2.0485e-39, -2.1564e-39,  2.5801e-39,  2.4211e-39,\n",
              "          -1.2559e-04, -6.9861e-04, -1.1788e-02, -1.7325e-02, -6.7017e-04,\n",
              "          -2.4218e-03, -1.0004e-02,  7.1473e-40, -1.5936e-02, -2.4209e-21]],\n",
              "        requires_grad=True), Parameter containing:\n",
              " tensor([-9.0094e-02,  4.4462e-01,  3.7749e-02, -2.9887e-01, -8.0446e-01,\n",
              "         -4.1500e-02,  1.4152e-02, -4.4842e-01, -5.6262e-01,  5.7722e-01,\n",
              "         -4.3424e-01,  5.0457e-01, -4.6626e-01, -3.2508e-02, -2.0579e-02,\n",
              "         -1.8154e-39], requires_grad=True), Parameter containing:\n",
              " tensor([[ 1.1129e-03, -4.3595e-02, -3.8415e-02,  6.3421e-02, -1.7988e-01,\n",
              "          -2.5405e-02, -3.9794e-02, -3.4564e-40, -1.8000e-01, -1.9732e-01,\n",
              "          -2.0564e-01,  3.5130e-02,  1.3843e-01,  1.9606e-01,  3.6558e-02,\n",
              "           2.2166e-39],\n",
              "         [-2.9155e-39, -2.5007e-02, -7.0227e-39, -2.1497e-02, -2.4114e-02,\n",
              "           6.9279e-39,  4.5046e-39, -2.4266e-02, -2.7947e-02, -2.6628e-02,\n",
              "          -4.8220e-40, -1.6442e-02, -2.4992e-02, -1.8302e-39,  2.2949e-39,\n",
              "           9.1383e-40],\n",
              "         [ 1.9038e-01, -7.4957e-02,  1.1495e-01,  1.2846e-01,  3.5022e-01,\n",
              "          -3.4218e-02, -5.5952e-02, -1.0500e-01,  2.4738e-01,  5.4130e-02,\n",
              "           1.4364e-01, -4.2149e-02,  2.2429e-01,  7.4441e-02,  6.7771e-02,\n",
              "          -1.5724e-02],\n",
              "         [ 1.2108e-02,  1.0101e-01,  8.0505e-02, -1.9290e-01, -2.4373e-02,\n",
              "          -1.8329e-03,  5.4088e-02, -6.0715e-02,  1.7126e-01,  6.2009e-02,\n",
              "          -5.6483e-01,  3.3262e-01,  1.4051e-01,  1.7110e-01,  1.4192e-01,\n",
              "           1.5763e-02],\n",
              "         [-1.2947e-02, -1.0140e-01, -1.0343e-03, -3.2041e-01, -2.0038e-01,\n",
              "          -2.1442e-02, -2.8258e-02,  2.5877e-01,  3.8047e-02,  2.8094e-02,\n",
              "          -9.1560e-02, -7.6279e-02, -8.0278e-02, -4.6694e-02, -8.7839e-02,\n",
              "          -1.0103e-03],\n",
              "         [ 1.6795e-01, -1.2174e-02, -4.2204e-02,  3.1404e-02, -7.4637e-02,\n",
              "           8.6949e-02, -6.3311e-02,  4.2184e-02, -9.3110e-02,  1.3961e-02,\n",
              "           9.7379e-02,  2.1780e-01, -2.4789e-01,  2.8558e-02,  5.7380e-02,\n",
              "          -4.2056e-39],\n",
              "         [-1.2702e-01, -8.2954e-02,  1.7097e-02, -9.5025e-02,  4.9010e-02,\n",
              "           1.1223e-01,  4.9489e-02, -9.1060e-02, -1.9644e-01, -2.1071e-01,\n",
              "           3.2016e-02, -1.4173e-02,  1.6816e-01,  1.7986e-01,  5.4602e-02,\n",
              "          -9.6683e-40],\n",
              "         [ 2.5905e-02,  1.0130e-01, -2.2601e-02, -8.9108e-02, -2.2077e-01,\n",
              "           9.7726e-02, -5.6692e-02, -2.7145e-01, -6.7479e-02,  1.7848e-01,\n",
              "          -1.1155e-01,  2.4458e-01, -3.6935e-02, -1.8368e-01,  1.5951e-39,\n",
              "           1.5087e-02],\n",
              "         [-1.0889e-01,  1.8393e-01, -4.0985e-02, -1.7131e-02,  7.3412e-02,\n",
              "           1.6335e-01,  1.3772e-01,  8.0872e-02, -2.0028e-01, -1.7627e-01,\n",
              "           8.8228e-02, -6.9880e-02, -4.1695e-02,  2.1183e-01, -7.0955e-02,\n",
              "           3.8876e-07],\n",
              "         [ 1.9873e-01,  1.5466e-01, -1.4651e-01,  1.1910e-01, -1.7472e-01,\n",
              "           1.0835e-01,  2.1684e-01, -2.0971e-01, -1.2676e-01,  2.2000e-01,\n",
              "          -2.1860e-01,  4.6098e-02, -6.8329e-02, -1.9077e-02,  8.8933e-03,\n",
              "           8.7966e-03],\n",
              "         [ 1.3563e-01, -1.2570e-01,  3.4743e-02, -3.6619e-01, -4.4911e-01,\n",
              "          -5.5463e-02, -3.0792e-03, -6.6870e-02, -5.0443e-02, -6.4888e-02,\n",
              "           1.1150e-01,  9.2725e-02,  2.4630e-01,  1.7087e-01,  1.2333e-02,\n",
              "           9.9058e-03],\n",
              "         [ 1.1577e-01, -9.2496e-03, -1.3323e-01,  9.5699e-02,  3.0128e-02,\n",
              "           1.7298e-01,  5.0371e-02,  6.5825e-02, -2.6493e-01, -8.8714e-02,\n",
              "          -2.0725e-01,  1.3483e-01,  1.0599e-03, -1.6140e-01, -5.2150e-03,\n",
              "           1.9222e-39],\n",
              "         [-1.0982e-01, -8.8553e-02,  2.9465e-02, -1.5984e-01, -1.0978e-01,\n",
              "          -8.3748e-02,  5.7369e-02,  1.7280e-02,  1.8798e-01, -5.5232e-02,\n",
              "           3.2868e-01,  7.6686e-02,  6.6817e-02, -9.0533e-02, -1.2858e-02,\n",
              "          -1.4900e-02],\n",
              "         [-3.7953e-02,  2.5703e-01,  5.2890e-02, -3.4203e-02, -7.7383e-02,\n",
              "           6.1470e-02, -1.7125e-01, -2.2183e-01, -1.3355e-01,  6.0437e-02,\n",
              "          -8.5806e-02,  1.3615e-01,  1.0582e-02,  1.6331e-02, -2.8431e-02,\n",
              "           5.3208e-03],\n",
              "         [-3.7151e-02,  2.2716e-01,  9.4426e-02, -3.0187e-02, -5.8823e-03,\n",
              "          -1.0629e-01, -1.5223e-01, -2.4023e-01, -2.4044e-01,  3.8268e-02,\n",
              "           8.3615e-02,  1.1105e-02, -8.6807e-02, -2.6678e-01,  6.5435e-02,\n",
              "          -1.8276e-39],\n",
              "         [-6.2127e-40, -1.2778e-02, -3.1257e-02, -2.4948e-02, -1.7642e-02,\n",
              "          -3.3924e-02,  3.4805e-02,  4.3287e-03, -1.0818e-02, -2.5323e-03,\n",
              "          -2.7220e-02,  2.2955e-03, -2.3164e-02, -3.1624e-02, -3.1307e-02,\n",
              "          -2.7407e-39]], requires_grad=True), Parameter containing:\n",
              " tensor([-5.4906e-02, -8.3434e-11, -9.2576e-01,  6.2408e-01, -3.0513e-01,\n",
              "         -1.7669e-01, -1.6015e-01,  9.2240e-01,  7.5090e-03,  7.4892e-01,\n",
              "          3.0104e-01,  2.5158e-02, -7.1349e-01,  4.4977e-01,  1.2216e-01,\n",
              "          1.5741e-04], requires_grad=True), Parameter containing:\n",
              " tensor([[-0.0856, -0.0278, -0.1045,  0.1283, -0.0207, -0.1009, -0.1504,  0.0661,\n",
              "           0.1530,  0.2555,  0.2123,  0.1686, -0.0488,  0.2290,  0.1478,  0.0295]],\n",
              "        requires_grad=True), Parameter containing:\n",
              " tensor([0.8554], requires_grad=True)]"
            ]
          },
          "metadata": {
            "tags": []
          },
          "execution_count": 48
        }
      ]
    },
    {
      "cell_type": "code",
      "metadata": {
        "id": "TaU6bV7lrusK",
        "colab": {
          "base_uri": "https://localhost:8080/"
        },
        "outputId": "bb8746d3-63a2-46b4-dad4-c666aa7b4ed1"
      },
      "source": [
        "# 30 -> 16 -> 16 -> 1\n",
        "pesos0 = params[0]\n",
        "pesos0.shape"
      ],
      "execution_count": 49,
      "outputs": [
        {
          "output_type": "execute_result",
          "data": {
            "text/plain": [
              "torch.Size([16, 30])"
            ]
          },
          "metadata": {
            "tags": []
          },
          "execution_count": 49
        }
      ]
    },
    {
      "cell_type": "code",
      "metadata": {
        "id": "JRIKPKKgr94O",
        "colab": {
          "base_uri": "https://localhost:8080/"
        },
        "outputId": "7202894d-f0f1-4866-e763-ab7879206945"
      },
      "source": [
        "print(pesos0)"
      ],
      "execution_count": 50,
      "outputs": [
        {
          "output_type": "stream",
          "text": [
            "Parameter containing:\n",
            "tensor([[-1.4472e-01, -1.1859e-01, -2.0132e-01, -5.6461e-02, -3.1472e-02,\n",
            "         -9.2397e-02, -3.1615e-02, -1.5199e-03, -6.6438e-02, -3.4858e-02,\n",
            "         -5.4382e-02,  4.8891e-03, -1.6903e-01, -1.7313e-01,  3.1291e-16,\n",
            "         -7.5156e-04, -3.9583e-04, -2.4709e-02, -4.8498e-02, -1.6453e-16,\n",
            "          1.3088e-01, -1.0403e-01, -8.1431e-02,  4.9095e-02, -3.3937e-02,\n",
            "         -1.4254e-02, -5.1198e-02, -1.2157e-02,  6.3936e-02, -6.9876e-02],\n",
            "        [ 2.1684e-01,  5.3967e-02,  3.9308e-01,  1.0629e-01, -4.6097e-01,\n",
            "         -1.7333e-01, -1.6348e-01, -3.2873e-01,  2.6114e-02,  4.9253e-02,\n",
            "          3.7776e-02, -7.8363e-02, -9.1475e-03,  1.5673e-01, -1.9145e-02,\n",
            "         -1.2957e-01,  2.5677e-02,  1.0757e-02,  7.8775e-02, -2.7703e-02,\n",
            "          2.0542e-01, -1.4152e-01,  2.7780e-01, -6.6723e-03,  9.7306e-02,\n",
            "         -2.3687e-01, -3.3325e-01,  9.9896e-03, -1.7744e-01, -1.6597e-01],\n",
            "        [ 3.1434e-02,  5.0107e-02, -6.0054e-02, -1.0508e-01,  1.3392e-02,\n",
            "          3.3347e-02, -2.6120e-02, -2.4171e-02,  2.5226e-02, -6.7917e-02,\n",
            "         -5.4577e-02,  7.4176e-02, -1.5783e-01, -2.9560e-02,  3.6003e-03,\n",
            "          1.2596e-01,  3.6656e-03, -9.8743e-03, -4.4271e-02, -5.3605e-03,\n",
            "          4.1879e-02,  3.4235e-02,  1.3483e-02, -2.3574e-02,  2.8282e-02,\n",
            "          5.9684e-02,  9.2923e-02, -9.4520e-03,  3.5531e-02,  1.2227e-02],\n",
            "        [-4.6000e-01,  8.7691e-02, -2.3884e-01,  7.0487e-02,  9.3982e-02,\n",
            "          1.1272e-01,  1.8382e-01,  9.1116e-02, -4.5542e-03, -5.9054e-02,\n",
            "          3.0504e-01, -7.4876e-02, -1.1069e-02,  7.6740e-02, -2.6028e-03,\n",
            "          1.4335e-02, -6.4251e-02, -2.8573e-02, -2.4093e-03, -5.9803e-04,\n",
            "          2.1064e-02, -8.0087e-02, -1.4734e-01,  1.3781e-02,  1.4083e-01,\n",
            "          1.2035e-01, -5.1552e-02,  3.6267e-01,  3.5235e-01,  5.4669e-01],\n",
            "        [-4.6905e-01,  1.2190e-01, -1.5367e-01, -1.3962e-01,  3.5568e-01,\n",
            "          6.0073e-03,  2.0254e-01, -3.5637e-01, -2.3219e-01,  1.1668e-01,\n",
            "         -1.6734e-01,  3.2730e-03, -1.1683e-02,  1.0384e-01,  1.3069e-02,\n",
            "          2.3148e-02, -6.5100e-01,  3.0618e-02,  1.6453e-01,  3.6515e-01,\n",
            "         -1.8451e-01,  2.4103e-01, -1.6342e-01,  2.4890e-01, -3.9367e-02,\n",
            "         -1.7631e-01, -3.6440e-01, -3.3537e-01, -7.5164e-03,  6.7562e-01],\n",
            "        [-1.5575e-01, -1.2597e-01, -7.9303e-02,  2.0297e-02,  3.3607e-03,\n",
            "          7.9329e-02, -1.0903e-01, -3.3643e-02, -1.2639e-01, -1.1316e-01,\n",
            "         -1.4278e-02,  6.7456e-02, -1.3246e-01,  1.6707e-01,  2.5951e-04,\n",
            "          5.7765e-02, -7.9975e-02, -4.3635e-03, -6.2125e-02, -1.0566e-03,\n",
            "         -3.3166e-02, -2.0798e-01, -9.9297e-02, -7.0974e-02, -2.3805e-01,\n",
            "         -7.9302e-02, -5.4138e-02, -9.5476e-02,  1.4479e-01, -9.4491e-03],\n",
            "        [ 6.2021e-02,  9.9584e-02,  1.8288e-01, -1.9405e-01, -1.5570e-02,\n",
            "         -1.2864e-01, -7.1903e-02, -1.3509e-03,  5.2428e-01,  7.6939e-04,\n",
            "         -1.2209e-01, -1.3598e-01,  3.8115e-02,  1.7350e-01,  9.9359e-06,\n",
            "          6.0110e-05,  7.8868e-05,  1.4708e-05,  7.1659e-05, -5.4323e-06,\n",
            "          4.0504e-02,  6.4090e-02,  8.9922e-02, -1.5674e-01, -7.8834e-02,\n",
            "          7.0646e-03,  3.4464e-02, -5.3666e-02, -1.7522e-02,  2.1962e-03],\n",
            "        [-4.0393e-01,  5.9224e-02, -2.2630e-01, -1.7333e-01,  2.7453e-01,\n",
            "          1.8115e-01, -4.2758e-02, -1.2773e-01,  2.0735e-01, -2.7352e-02,\n",
            "          1.3134e-03, -1.1664e-01,  6.6807e-02,  2.3409e-01,  7.2526e-03,\n",
            "          4.9609e-02,  3.0336e-02,  2.3499e-02,  7.3201e-02,  6.5862e-03,\n",
            "         -3.1047e-01,  1.9410e-01, -3.7321e-01,  1.1034e-01,  3.6572e-02,\n",
            "         -2.7072e-01,  5.2527e-02,  3.8416e-01, -5.5090e-02,  1.5831e-01],\n",
            "        [-1.9618e-01, -2.1568e-02, -4.7977e-01, -2.9082e-02,  3.4519e-01,\n",
            "          2.0675e-01, -2.2187e-01, -3.0905e-01,  6.1415e-02, -1.2633e-01,\n",
            "          2.2963e-01, -1.0810e-01,  8.1174e-02,  6.9002e-02,  1.5719e-02,\n",
            "          1.2430e-01, -3.2160e-01, -5.7550e-02,  1.1171e-01,  1.3595e-01,\n",
            "         -4.6990e-01,  2.3371e-01, -3.5655e-01,  2.4902e-01,  3.5503e-01,\n",
            "          3.7366e-02, -1.9714e-01,  1.3569e-01,  1.4187e-01,  5.4900e-01],\n",
            "        [ 2.6679e-01, -8.4870e-03,  3.2623e-01, -5.5527e-02, -1.8207e-01,\n",
            "         -1.8689e-01,  8.8245e-02,  5.3162e-02, -7.0508e-02,  2.7558e-02,\n",
            "          4.2984e-02, -1.5373e-01,  1.5718e-01, -3.7128e-01, -2.2059e-02,\n",
            "         -1.0512e-01,  7.2003e-02,  3.7635e-03, -1.2609e-01, -6.2709e-02,\n",
            "          2.0634e-01, -3.4993e-01,  3.4224e-01, -1.3769e-01,  4.0173e-02,\n",
            "          2.2786e-02,  2.6015e-01, -1.4226e-01,  8.2233e-02, -2.6695e-01],\n",
            "        [-2.3917e-01, -7.6879e-02, -5.2743e-02,  8.3600e-02,  1.0128e-03,\n",
            "         -2.4558e-01, -2.0535e-01,  8.6404e-02,  1.9791e-01, -3.4433e-03,\n",
            "         -1.7009e-01,  4.8577e-02, -1.5151e-01,  2.3725e-01, -8.3439e-03,\n",
            "         -9.9500e-02, -6.6992e-01, -1.6088e-01, -2.7402e-01,  2.5024e-03,\n",
            "         -3.2240e-01, -1.1835e-01, -4.2102e-02,  1.8832e-01,  4.2833e-01,\n",
            "          1.4088e-01,  2.3894e-01,  2.9077e-01,  5.0551e-02, -4.7138e-02],\n",
            "        [ 1.2391e-01, -8.7390e-02,  2.3339e-01,  2.2529e-01,  1.9083e-01,\n",
            "          4.2033e-01, -4.3387e-01,  8.0532e-01,  4.7829e-01, -1.2629e-01,\n",
            "          1.4129e-01,  7.2752e-02, -8.3245e-02, -1.9474e-01, -3.5569e-03,\n",
            "          4.0002e-02,  6.1225e-01,  1.9249e-03, -5.2056e-02, -4.2212e-01,\n",
            "          2.5916e-01, -2.3571e-01,  3.5991e-01, -8.7461e-02, -1.4297e-01,\n",
            "          1.0326e-01, -1.3668e-01,  3.0764e-02,  2.5337e-01, -6.2358e-01],\n",
            "        [ 1.0677e-01,  1.9397e-01, -3.9825e-01, -8.0454e-02,  1.0113e-01,\n",
            "          2.7053e-01,  9.3877e-02,  1.5921e-01,  5.9859e-02, -6.4008e-03,\n",
            "          1.3585e-01, -4.5248e-02,  7.4388e-02,  7.6825e-02,  7.4149e-03,\n",
            "          5.5325e-02,  2.4794e-01,  1.7314e-02, -8.1665e-03,  5.9937e-02,\n",
            "          2.4381e-02,  3.2472e-01, -1.6226e-01,  2.2168e-02, -2.0473e-01,\n",
            "          2.1274e-01, -3.3663e-01,  2.4473e-01,  4.4974e-02,  4.8592e-01],\n",
            "        [ 8.2383e-02, -6.3957e-02, -9.4530e-02, -1.8627e-02,  3.1484e-02,\n",
            "         -8.2835e-02, -1.1242e-01,  1.3252e-02, -7.4897e-02, -5.3564e-02,\n",
            "         -2.6801e-02, -1.6692e-01, -1.9339e-01,  1.0118e-01,  1.4560e-03,\n",
            "          9.3966e-03,  1.2600e-02, -3.3440e-02,  5.2523e-03,  1.2397e-03,\n",
            "          1.0010e-01, -2.6194e-02, -8.5837e-02,  1.0647e-01, -3.7471e-03,\n",
            "          4.6080e-02, -4.6070e-02,  1.0999e-02, -9.3331e-03,  2.3275e-03],\n",
            "        [ 9.4538e-02, -3.2260e-02,  1.9293e-02, -1.5778e-01, -3.3788e-05,\n",
            "         -7.0155e-11,  1.3719e-16, -5.7446e-17, -3.3908e-02, -2.7693e-05,\n",
            "         -2.4517e-03, -4.5946e-02, -4.6807e-02, -4.2875e-02, -1.9954e-16,\n",
            "          1.6477e-16,  1.4340e-16, -1.0728e-16,  9.2510e-14,  1.0727e-16,\n",
            "          7.5366e-02,  2.0696e-03, -1.0829e-01, -1.9841e-01, -1.6841e-03,\n",
            "         -2.6749e-02,  3.6703e-16, -2.6618e-03, -7.2876e-03, -7.3593e-05],\n",
            "        [-6.7707e-05, -2.5411e-04, -1.1284e-02, -1.9395e-02, -2.4164e-39,\n",
            "         -8.3361e-05,  1.4863e-08,  5.7753e-09, -1.5219e-03,  2.7977e-40,\n",
            "         -1.1707e-02, -8.5132e-03, -9.6617e-03, -3.7086e-04,  2.6432e-40,\n",
            "         -4.0770e-39,  2.0485e-39, -2.1564e-39,  2.5801e-39,  2.4211e-39,\n",
            "         -1.2559e-04, -6.9861e-04, -1.1788e-02, -1.7325e-02, -6.7017e-04,\n",
            "         -2.4218e-03, -1.0004e-02,  7.1473e-40, -1.5936e-02, -2.4209e-21]],\n",
            "       requires_grad=True)\n"
          ],
          "name": "stdout"
        }
      ]
    },
    {
      "cell_type": "code",
      "metadata": {
        "id": "q42zQLHFsIWC",
        "colab": {
          "base_uri": "https://localhost:8080/"
        },
        "outputId": "13a0bdbc-934f-4f12-a65b-e86a0bb5ac25"
      },
      "source": [
        "# 30 -> 16 -> 16 -> 1\n",
        "bias0 = params[1]\n",
        "bias0.shape"
      ],
      "execution_count": 51,
      "outputs": [
        {
          "output_type": "execute_result",
          "data": {
            "text/plain": [
              "torch.Size([16])"
            ]
          },
          "metadata": {
            "tags": []
          },
          "execution_count": 51
        }
      ]
    },
    {
      "cell_type": "code",
      "metadata": {
        "id": "3IWG8GFjsTr5",
        "colab": {
          "base_uri": "https://localhost:8080/"
        },
        "outputId": "82d551d0-0d04-4688-c0bb-f04cd08fa820"
      },
      "source": [
        "pesos1 = params[2]\n",
        "pesos1.shape"
      ],
      "execution_count": 52,
      "outputs": [
        {
          "output_type": "execute_result",
          "data": {
            "text/plain": [
              "torch.Size([16, 16])"
            ]
          },
          "metadata": {
            "tags": []
          },
          "execution_count": 52
        }
      ]
    },
    {
      "cell_type": "code",
      "metadata": {
        "id": "yfgtWyWrsbbY",
        "colab": {
          "base_uri": "https://localhost:8080/"
        },
        "outputId": "15521224-9f51-4c58-e104-a7ccbb56d618"
      },
      "source": [
        "bias1 = params[3]\n",
        "bias1.shape"
      ],
      "execution_count": 53,
      "outputs": [
        {
          "output_type": "execute_result",
          "data": {
            "text/plain": [
              "torch.Size([16])"
            ]
          },
          "metadata": {
            "tags": []
          },
          "execution_count": 53
        }
      ]
    },
    {
      "cell_type": "markdown",
      "metadata": {
        "id": "AyTjLzELSdQF"
      },
      "source": [
        "## Etapa 7: Avaliação do modelo"
      ]
    },
    {
      "cell_type": "code",
      "metadata": {
        "id": "ZafmlssFs5SG",
        "colab": {
          "base_uri": "https://localhost:8080/"
        },
        "outputId": "d768aba7-87e8-4262-cff3-afec5944eabb"
      },
      "source": [
        "classificador.eval()"
      ],
      "execution_count": 54,
      "outputs": [
        {
          "output_type": "execute_result",
          "data": {
            "text/plain": [
              "Sequential(\n",
              "  (0): Linear(in_features=30, out_features=16, bias=True)\n",
              "  (1): ReLU()\n",
              "  (2): Linear(in_features=16, out_features=16, bias=True)\n",
              "  (3): ReLU()\n",
              "  (4): Linear(in_features=16, out_features=1, bias=True)\n",
              "  (5): Sigmoid()\n",
              ")"
            ]
          },
          "metadata": {
            "tags": []
          },
          "execution_count": 54
        }
      ]
    },
    {
      "cell_type": "code",
      "metadata": {
        "id": "7C3BgZGGtJvp",
        "colab": {
          "base_uri": "https://localhost:8080/"
        },
        "outputId": "2a175f56-0c4d-418c-aa8a-eefaa10250be"
      },
      "source": [
        "type(previsores_teste)"
      ],
      "execution_count": 55,
      "outputs": [
        {
          "output_type": "execute_result",
          "data": {
            "text/plain": [
              "pandas.core.frame.DataFrame"
            ]
          },
          "metadata": {
            "tags": []
          },
          "execution_count": 55
        }
      ]
    },
    {
      "cell_type": "code",
      "metadata": {
        "id": "PuL49MUEtOrh"
      },
      "source": [
        "previsores_teste = torch.tensor(np.array(previsores_teste), dtype=torch.float)"
      ],
      "execution_count": 56,
      "outputs": []
    },
    {
      "cell_type": "code",
      "metadata": {
        "id": "LmAqJEHHtZNC",
        "colab": {
          "base_uri": "https://localhost:8080/"
        },
        "outputId": "b0d5f91c-5bf1-4706-c07d-11d18e6bce4e"
      },
      "source": [
        "type(previsores_teste)"
      ],
      "execution_count": 57,
      "outputs": [
        {
          "output_type": "execute_result",
          "data": {
            "text/plain": [
              "torch.Tensor"
            ]
          },
          "metadata": {
            "tags": []
          },
          "execution_count": 57
        }
      ]
    },
    {
      "cell_type": "code",
      "metadata": {
        "id": "Fe8muTxbtc1G"
      },
      "source": [
        "previsoes = classificador.forward(previsores_teste)"
      ],
      "execution_count": 58,
      "outputs": []
    },
    {
      "cell_type": "code",
      "metadata": {
        "id": "fn0leHiAtqpx",
        "colab": {
          "base_uri": "https://localhost:8080/"
        },
        "outputId": "1450947e-99e5-475d-dda6-6ab1a5f3ab83"
      },
      "source": [
        "previsoes"
      ],
      "execution_count": 59,
      "outputs": [
        {
          "output_type": "execute_result",
          "data": {
            "text/plain": [
              "tensor([[9.9393e-01],\n",
              "        [1.0000e+00],\n",
              "        [4.7815e-01],\n",
              "        [8.7165e-01],\n",
              "        [9.7153e-05],\n",
              "        [9.7470e-01],\n",
              "        [7.4032e-01],\n",
              "        [9.9494e-01],\n",
              "        [9.3739e-01],\n",
              "        [8.0440e-01],\n",
              "        [9.1755e-01],\n",
              "        [9.9990e-01],\n",
              "        [1.8463e-02],\n",
              "        [9.9822e-01],\n",
              "        [9.4277e-01],\n",
              "        [4.0119e-01],\n",
              "        [9.9825e-01],\n",
              "        [1.0000e+00],\n",
              "        [4.4819e-01],\n",
              "        [9.9998e-01],\n",
              "        [3.3696e-11],\n",
              "        [5.6173e-03],\n",
              "        [4.6567e-01],\n",
              "        [1.0000e+00],\n",
              "        [9.5365e-01],\n",
              "        [1.8494e-02],\n",
              "        [9.7576e-01],\n",
              "        [9.9711e-01],\n",
              "        [1.7748e-04],\n",
              "        [9.9960e-01],\n",
              "        [2.4710e-01],\n",
              "        [9.9977e-01],\n",
              "        [7.3776e-01],\n",
              "        [9.8115e-01],\n",
              "        [2.6316e-01],\n",
              "        [9.9954e-01],\n",
              "        [7.3857e-01],\n",
              "        [9.9995e-01],\n",
              "        [9.9730e-01],\n",
              "        [5.1523e-04],\n",
              "        [4.2962e-02],\n",
              "        [8.9854e-01],\n",
              "        [1.1211e-06],\n",
              "        [1.3034e-01],\n",
              "        [1.4114e-03],\n",
              "        [7.2638e-01],\n",
              "        [1.5840e-04],\n",
              "        [5.5344e-08],\n",
              "        [6.0364e-01],\n",
              "        [1.1670e-02],\n",
              "        [9.4756e-01],\n",
              "        [4.3798e-16],\n",
              "        [9.7105e-01],\n",
              "        [9.9368e-01],\n",
              "        [9.9995e-01],\n",
              "        [5.1234e-01],\n",
              "        [9.9994e-01],\n",
              "        [6.4444e-06],\n",
              "        [3.5031e-04],\n",
              "        [9.9945e-01],\n",
              "        [8.2863e-05],\n",
              "        [9.9988e-01],\n",
              "        [9.9995e-01],\n",
              "        [9.9994e-01],\n",
              "        [7.7721e-01],\n",
              "        [7.2350e-07],\n",
              "        [1.0000e+00],\n",
              "        [1.0000e+00],\n",
              "        [1.0000e+00],\n",
              "        [9.4470e-01],\n",
              "        [1.0000e+00],\n",
              "        [9.4151e-01],\n",
              "        [1.3377e-01],\n",
              "        [7.7021e-01],\n",
              "        [5.5063e-03],\n",
              "        [9.6361e-01],\n",
              "        [6.0255e-01],\n",
              "        [9.4804e-10],\n",
              "        [2.1266e-06],\n",
              "        [2.5724e-02],\n",
              "        [9.6306e-01],\n",
              "        [1.1839e-05],\n",
              "        [3.2079e-06],\n",
              "        [9.9642e-01],\n",
              "        [1.0000e+00],\n",
              "        [1.0000e+00],\n",
              "        [1.8730e-02],\n",
              "        [9.9923e-01],\n",
              "        [1.0214e-02],\n",
              "        [4.9289e-01],\n",
              "        [3.5866e-02],\n",
              "        [9.2314e-01],\n",
              "        [9.9999e-01],\n",
              "        [1.4686e-02],\n",
              "        [9.9990e-01],\n",
              "        [1.0000e+00],\n",
              "        [9.9705e-01],\n",
              "        [9.9991e-01],\n",
              "        [1.9628e-02],\n",
              "        [1.0000e+00],\n",
              "        [9.9949e-01],\n",
              "        [1.0000e+00],\n",
              "        [9.9861e-01],\n",
              "        [9.7025e-01],\n",
              "        [5.0229e-02],\n",
              "        [1.0000e+00],\n",
              "        [1.0000e+00],\n",
              "        [9.9971e-01],\n",
              "        [1.0000e+00],\n",
              "        [9.9971e-01],\n",
              "        [1.0000e+00],\n",
              "        [9.9999e-01],\n",
              "        [9.0550e-01],\n",
              "        [4.4014e-06],\n",
              "        [9.7483e-01],\n",
              "        [2.4183e-04],\n",
              "        [9.9966e-01],\n",
              "        [4.0002e-04],\n",
              "        [9.9994e-01],\n",
              "        [9.9771e-01],\n",
              "        [7.9147e-01],\n",
              "        [9.9229e-01],\n",
              "        [1.0000e+00],\n",
              "        [1.0000e+00],\n",
              "        [2.6116e-07],\n",
              "        [9.9996e-01],\n",
              "        [9.9005e-01],\n",
              "        [3.9961e-02],\n",
              "        [9.9898e-01],\n",
              "        [1.7585e-01],\n",
              "        [2.5758e-08],\n",
              "        [9.9989e-01],\n",
              "        [1.0000e+00],\n",
              "        [4.8345e-03],\n",
              "        [1.5865e-08],\n",
              "        [9.3877e-01],\n",
              "        [9.9980e-01],\n",
              "        [9.9828e-01],\n",
              "        [8.9037e-02],\n",
              "        [3.0092e-05],\n",
              "        [3.7183e-04],\n",
              "        [9.9461e-01],\n",
              "        [1.3463e-10]], grad_fn=<SigmoidBackward>)"
            ]
          },
          "metadata": {
            "tags": []
          },
          "execution_count": 59
        }
      ]
    },
    {
      "cell_type": "code",
      "metadata": {
        "id": "MzALzgDet3Hr",
        "colab": {
          "base_uri": "https://localhost:8080/"
        },
        "outputId": "4eae4e14-5411-45f7-f903-1018266a2015"
      },
      "source": [
        "previsoes = np.array(previsoes > 0.5)\n",
        "previsoes"
      ],
      "execution_count": 60,
      "outputs": [
        {
          "output_type": "execute_result",
          "data": {
            "text/plain": [
              "array([[ True],\n",
              "       [ True],\n",
              "       [False],\n",
              "       [ True],\n",
              "       [False],\n",
              "       [ True],\n",
              "       [ True],\n",
              "       [ True],\n",
              "       [ True],\n",
              "       [ True],\n",
              "       [ True],\n",
              "       [ True],\n",
              "       [False],\n",
              "       [ True],\n",
              "       [ True],\n",
              "       [False],\n",
              "       [ True],\n",
              "       [ True],\n",
              "       [False],\n",
              "       [ True],\n",
              "       [False],\n",
              "       [False],\n",
              "       [False],\n",
              "       [ True],\n",
              "       [ True],\n",
              "       [False],\n",
              "       [ True],\n",
              "       [ True],\n",
              "       [False],\n",
              "       [ True],\n",
              "       [False],\n",
              "       [ True],\n",
              "       [ True],\n",
              "       [ True],\n",
              "       [False],\n",
              "       [ True],\n",
              "       [ True],\n",
              "       [ True],\n",
              "       [ True],\n",
              "       [False],\n",
              "       [False],\n",
              "       [ True],\n",
              "       [False],\n",
              "       [False],\n",
              "       [False],\n",
              "       [ True],\n",
              "       [False],\n",
              "       [False],\n",
              "       [ True],\n",
              "       [False],\n",
              "       [ True],\n",
              "       [False],\n",
              "       [ True],\n",
              "       [ True],\n",
              "       [ True],\n",
              "       [ True],\n",
              "       [ True],\n",
              "       [False],\n",
              "       [False],\n",
              "       [ True],\n",
              "       [False],\n",
              "       [ True],\n",
              "       [ True],\n",
              "       [ True],\n",
              "       [ True],\n",
              "       [False],\n",
              "       [ True],\n",
              "       [ True],\n",
              "       [ True],\n",
              "       [ True],\n",
              "       [ True],\n",
              "       [ True],\n",
              "       [False],\n",
              "       [ True],\n",
              "       [False],\n",
              "       [ True],\n",
              "       [ True],\n",
              "       [False],\n",
              "       [False],\n",
              "       [False],\n",
              "       [ True],\n",
              "       [False],\n",
              "       [False],\n",
              "       [ True],\n",
              "       [ True],\n",
              "       [ True],\n",
              "       [False],\n",
              "       [ True],\n",
              "       [False],\n",
              "       [False],\n",
              "       [False],\n",
              "       [ True],\n",
              "       [ True],\n",
              "       [False],\n",
              "       [ True],\n",
              "       [ True],\n",
              "       [ True],\n",
              "       [ True],\n",
              "       [False],\n",
              "       [ True],\n",
              "       [ True],\n",
              "       [ True],\n",
              "       [ True],\n",
              "       [ True],\n",
              "       [False],\n",
              "       [ True],\n",
              "       [ True],\n",
              "       [ True],\n",
              "       [ True],\n",
              "       [ True],\n",
              "       [ True],\n",
              "       [ True],\n",
              "       [ True],\n",
              "       [False],\n",
              "       [ True],\n",
              "       [False],\n",
              "       [ True],\n",
              "       [False],\n",
              "       [ True],\n",
              "       [ True],\n",
              "       [ True],\n",
              "       [ True],\n",
              "       [ True],\n",
              "       [ True],\n",
              "       [False],\n",
              "       [ True],\n",
              "       [ True],\n",
              "       [False],\n",
              "       [ True],\n",
              "       [False],\n",
              "       [False],\n",
              "       [ True],\n",
              "       [ True],\n",
              "       [False],\n",
              "       [False],\n",
              "       [ True],\n",
              "       [ True],\n",
              "       [ True],\n",
              "       [False],\n",
              "       [False],\n",
              "       [False],\n",
              "       [ True],\n",
              "       [False]])"
            ]
          },
          "metadata": {
            "tags": []
          },
          "execution_count": 60
        }
      ]
    },
    {
      "cell_type": "code",
      "metadata": {
        "id": "YVPFTbGeuSU5",
        "colab": {
          "base_uri": "https://localhost:8080/",
          "height": 419
        },
        "outputId": "91d4677b-8b4c-459f-9315-3095902fe956"
      },
      "source": [
        "classe_teste"
      ],
      "execution_count": 61,
      "outputs": [
        {
          "output_type": "execute_result",
          "data": {
            "text/html": [
              "<div>\n",
              "<style scoped>\n",
              "    .dataframe tbody tr th:only-of-type {\n",
              "        vertical-align: middle;\n",
              "    }\n",
              "\n",
              "    .dataframe tbody tr th {\n",
              "        vertical-align: top;\n",
              "    }\n",
              "\n",
              "    .dataframe thead th {\n",
              "        text-align: right;\n",
              "    }\n",
              "</style>\n",
              "<table border=\"1\" class=\"dataframe\">\n",
              "  <thead>\n",
              "    <tr style=\"text-align: right;\">\n",
              "      <th></th>\n",
              "      <th>0</th>\n",
              "    </tr>\n",
              "  </thead>\n",
              "  <tbody>\n",
              "    <tr>\n",
              "      <th>333</th>\n",
              "      <td>1</td>\n",
              "    </tr>\n",
              "    <tr>\n",
              "      <th>273</th>\n",
              "      <td>1</td>\n",
              "    </tr>\n",
              "    <tr>\n",
              "      <th>201</th>\n",
              "      <td>0</td>\n",
              "    </tr>\n",
              "    <tr>\n",
              "      <th>178</th>\n",
              "      <td>1</td>\n",
              "    </tr>\n",
              "    <tr>\n",
              "      <th>85</th>\n",
              "      <td>0</td>\n",
              "    </tr>\n",
              "    <tr>\n",
              "      <th>...</th>\n",
              "      <td>...</td>\n",
              "    </tr>\n",
              "    <tr>\n",
              "      <th>230</th>\n",
              "      <td>0</td>\n",
              "    </tr>\n",
              "    <tr>\n",
              "      <th>282</th>\n",
              "      <td>0</td>\n",
              "    </tr>\n",
              "    <tr>\n",
              "      <th>535</th>\n",
              "      <td>0</td>\n",
              "    </tr>\n",
              "    <tr>\n",
              "      <th>436</th>\n",
              "      <td>1</td>\n",
              "    </tr>\n",
              "    <tr>\n",
              "      <th>236</th>\n",
              "      <td>0</td>\n",
              "    </tr>\n",
              "  </tbody>\n",
              "</table>\n",
              "<p>143 rows × 1 columns</p>\n",
              "</div>"
            ],
            "text/plain": [
              "     0\n",
              "333  1\n",
              "273  1\n",
              "201  0\n",
              "178  1\n",
              "85   0\n",
              "..  ..\n",
              "230  0\n",
              "282  0\n",
              "535  0\n",
              "436  1\n",
              "236  0\n",
              "\n",
              "[143 rows x 1 columns]"
            ]
          },
          "metadata": {
            "tags": []
          },
          "execution_count": 61
        }
      ]
    },
    {
      "cell_type": "code",
      "metadata": {
        "id": "U7jfnFtZuNVn",
        "colab": {
          "base_uri": "https://localhost:8080/"
        },
        "outputId": "f45c0494-79f6-4de4-af98-fca3918dc64a"
      },
      "source": [
        "taxa_acerto = accuracy_score(classe_teste, previsoes)\n",
        "taxa_acerto"
      ],
      "execution_count": 62,
      "outputs": [
        {
          "output_type": "execute_result",
          "data": {
            "text/plain": [
              "0.8741258741258742"
            ]
          },
          "metadata": {
            "tags": []
          },
          "execution_count": 62
        }
      ]
    },
    {
      "cell_type": "code",
      "metadata": {
        "id": "g0Z3LgbcutQD",
        "colab": {
          "base_uri": "https://localhost:8080/"
        },
        "outputId": "25235df7-58df-4f31-b6db-4edabc6f69e3"
      },
      "source": [
        "matriz = confusion_matrix(classe_teste, previsoes)\n",
        "matriz"
      ],
      "execution_count": 63,
      "outputs": [
        {
          "output_type": "execute_result",
          "data": {
            "text/plain": [
              "array([[44, 10],\n",
              "       [ 8, 81]])"
            ]
          },
          "metadata": {
            "tags": []
          },
          "execution_count": 63
        }
      ]
    },
    {
      "cell_type": "code",
      "metadata": {
        "id": "BlaTftH_uzpv",
        "colab": {
          "base_uri": "https://localhost:8080/",
          "height": 266
        },
        "outputId": "1267acc1-9fb0-4e10-cfd7-2846affd5dd7"
      },
      "source": [
        "sns.heatmap(matriz, annot=True);"
      ],
      "execution_count": 64,
      "outputs": [
        {
          "output_type": "display_data",
          "data": {
            "image/png": "[encoded data removed]",
            "text/plain": [
              "<Figure size 432x288 with 2 Axes>"
            ]
          },
          "metadata": {
            "tags": [],
            "needs_background": "light"
          }
        }
      ]
    }
  ]
}